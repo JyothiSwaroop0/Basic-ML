{
 "cells": [
  {
   "cell_type": "raw",
   "metadata": {},
   "source": [
    "Exercises\n",
    "Answer the questions or complete the tasks outlined in bold below, use the specific method described if applicable.\n"
   ]
  },
  {
   "cell_type": "markdown",
   "metadata": {},
   "source": [
    "What is 7 to the power of 4?"
   ]
  },
  {
   "cell_type": "code",
   "execution_count": 1,
   "metadata": {},
   "outputs": [
    {
     "name": "stdout",
     "output_type": "stream",
     "text": [
      "enter a 7\n",
      "enter b 4\n",
      "2401\n"
     ]
    }
   ],
   "source": [
    "a=int(input(\"enter a \"))\n",
    "b=int(input(\"enter b \"))\n",
    "c=a**b\n",
    "print(c)"
   ]
  },
  {
   "cell_type": "markdown",
   "metadata": {},
   "source": [
    "Split this string"
   ]
  },
  {
   "cell_type": "code",
   "execution_count": 2,
   "metadata": {},
   "outputs": [
    {
     "name": "stdout",
     "output_type": "stream",
     "text": [
      "enter the string Hi there Sam!\n",
      "['Hi', 'there', 'Sam!']\n"
     ]
    }
   ],
   "source": [
    "s=input(\"enter the string \")\n",
    "print(s.split(' '))"
   ]
  },
  {
   "cell_type": "raw",
   "metadata": {},
   "source": [
    "Given the variables\n",
    "Use .format() to print the following string\n"
   ]
  },
  {
   "cell_type": "code",
   "execution_count": 3,
   "metadata": {},
   "outputs": [
    {
     "name": "stdout",
     "output_type": "stream",
     "text": [
      "enter the planet name Earth\n",
      "enter the diameter 12742\n",
      "The diameter of Earth is 12742 kilometers.\n"
     ]
    }
   ],
   "source": [
    "planet=input(\"enter the planet name \")\n",
    "dia=input(\"enter the diameter \")\n",
    "print(\"The diameter of {0} is {1} kilometers.\".format(planet,dia))"
   ]
  },
  {
   "cell_type": "code",
   "execution_count": 6,
   "metadata": {},
   "outputs": [
    {
     "data": {
      "text/plain": [
       "'hello'"
      ]
     },
     "execution_count": 6,
     "metadata": {},
     "output_type": "execute_result"
    }
   ],
   "source": [
    "lst = [1,2,[3,4],[5,[100,200,['hello']],23,11],1,7]\n",
    "lst[3][1][2][0]"
   ]
  },
  {
   "cell_type": "markdown",
   "metadata": {},
   "source": [
    "Given this nest dictionary grab the word \"hello\". Be prepared, this will be annoying/tricky"
   ]
  },
  {
   "cell_type": "code",
   "execution_count": 5,
   "metadata": {},
   "outputs": [
    {
     "data": {
      "text/plain": [
       "'hello'"
      ]
     },
     "execution_count": 5,
     "metadata": {},
     "output_type": "execute_result"
    }
   ],
   "source": [
    "d = {'k1':[1,2,3,{'tricky':['oh','man','inception',{'target':[1,2,3,'hello']}]}]}\n",
    "d[\"k1\"][3][\"tricky\"][3][\"target\"][3]"
   ]
  },
  {
   "cell_type": "markdown",
   "metadata": {},
   "source": [
    "What is the main difference between a tuple and a list?"
   ]
  },
  {
   "cell_type": "raw",
   "metadata": {},
   "source": [
    "tuple = is immutable\n",
    "list = is mutable"
   ]
  },
  {
   "cell_type": "markdown",
   "metadata": {},
   "source": [
    "\"** Create a function that grabs the email website domain from a string in the form: **\\n\",\n",
    "    \"\\n\",\n",
    "    \"    user@domain.com\\n\",\n",
    "    \"    \\n\",\n",
    "    \"**So for example, passing \\\"user@domain.com\\\" would return: domain.com**\"\n"
   ]
  },
  {
   "cell_type": "code",
   "execution_count": 7,
   "metadata": {},
   "outputs": [
    {
     "name": "stdout",
     "output_type": "stream",
     "text": [
      "enter a email user@domain.com\n",
      "domain.com\n"
     ]
    }
   ],
   "source": [
    "email=input(\"enter a email \")\n",
    "l=list(email.split('@'))\n",
    "print(l[1])"
   ]
  },
  {
   "cell_type": "raw",
   "metadata": {},
   "source": [
    "Create a basic function that returns True if the word 'dog' is contained in the input string. Don't worry about edge cases like a punctuation being attached to the word dog, but do account for capitalization."
   ]
  },
  {
   "cell_type": "code",
   "execution_count": 9,
   "metadata": {},
   "outputs": [
    {
     "name": "stdout",
     "output_type": "stream",
     "text": [
      "enter a string hello dog.\n",
      "True\n"
     ]
    }
   ],
   "source": [
    "def basic(s):\n",
    "    if \"dog\" in s:\n",
    "        return(True)\n",
    "    else:\n",
    "        return(False)\n",
    "s=input(\"enter a string \")\n",
    "print(basic(s))"
   ]
  },
  {
   "cell_type": "markdown",
   "metadata": {},
   "source": [
    " Create a function that counts the number of times the word \\\"dog\\\" occurs in a string. Again ignore edge cases."
   ]
  },
  {
   "cell_type": "code",
   "execution_count": 11,
   "metadata": {},
   "outputs": [
    {
     "name": "stdout",
     "output_type": "stream",
     "text": [
      "enter a string dog bites dog\n",
      "2\n"
     ]
    }
   ],
   "source": [
    "def basic(s):\n",
    "    s.lower()\n",
    "    c=s.count(\"dog\")\n",
    "    return(c)\n",
    "s=input(\"enter a string \")\n",
    "print(basic(s))"
   ]
  },
  {
   "cell_type": "raw",
   "metadata": {},
   "source": [
    "Final Problem\\n\",\n",
    "    \"**You are driving a little too fast, and a police officer stops you. Write a function\\n\",\n",
    "    \"  to return one of 3 possible results: \\\"No ticket\\\", \\\"Small ticket\\\", or \\\"Big Ticket\\\". \\n\",\n",
    "    \"  If your speed is 60 or less, the result is \\\"No Ticket\\\". If speed is between 61 \\n\",\n",
    "    \"  and 80 inclusive, the result is \\\"Small Ticket\\\". If speed is 81 or more, the result is \\\"Big    Ticket\\\". Unless it is your birthday (encoded as a boolean value in the parameters of the function) -- on your birthday, your speed can be 5 higher in all \\n\",\n",
    "    \"  cases. **\""
   ]
  },
  {
   "cell_type": "code",
   "execution_count": 12,
   "metadata": {},
   "outputs": [],
   "source": [
    "def ticket(speed,isbirthday):\n",
    "    if isbirthday:\n",
    "        speed=speed-5\n",
    "    else:\n",
    "        speed=speed\n",
    "        \n",
    "    if speed<=60:\n",
    "        return(\"No Ticket\")\n",
    "    elif speed>60 and speed<=80:\n",
    "        return(\"Small Ticket\")\n",
    "    else:\n",
    "        return(\"Big Ticket\")"
   ]
  },
  {
   "cell_type": "code",
   "execution_count": 15,
   "metadata": {},
   "outputs": [
    {
     "name": "stdout",
     "output_type": "stream",
     "text": [
      "Big Ticket\n"
     ]
    }
   ],
   "source": [
    "print(ticket(85,False))"
   ]
  },
  {
   "cell_type": "markdown",
   "metadata": {},
   "source": [
    "Great Job..."
   ]
  }
 ],
 "metadata": {
  "kernelspec": {
   "display_name": "Python 3",
   "language": "python",
   "name": "python3"
  },
  "language_info": {
   "codemirror_mode": {
    "name": "ipython",
    "version": 3
   },
   "file_extension": ".py",
   "mimetype": "text/x-python",
   "name": "python",
   "nbconvert_exporter": "python",
   "pygments_lexer": "ipython3",
   "version": "3.7.4"
  }
 },
 "nbformat": 4,
 "nbformat_minor": 2
}
